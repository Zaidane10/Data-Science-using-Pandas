{
 "cells": [
  {
   "cell_type": "markdown",
   "id": "b50b886d",
   "metadata": {},
   "source": [
    "#### List Comprehension"
   ]
  },
  {
   "cell_type": "code",
   "execution_count": 1,
   "id": "79d0c108",
   "metadata": {},
   "outputs": [],
   "source": [
    "dictionary = {\"Name\":\"Ali\", \"Age\":24, \"City\":\"KHI\"}"
   ]
  },
  {
   "cell_type": "code",
   "execution_count": 2,
   "id": "cc02d1ef",
   "metadata": {},
   "outputs": [
    {
     "data": {
      "text/plain": [
       "['Name', 'Age', 'City']"
      ]
     },
     "execution_count": 2,
     "metadata": {},
     "output_type": "execute_result"
    }
   ],
   "source": [
    "keys=[]\n",
    "\n",
    "for i in dictionary:\n",
    "    keys.append(i)\n",
    "    \n",
    "keys"
   ]
  },
  {
   "cell_type": "code",
   "execution_count": 3,
   "id": "32df0d42",
   "metadata": {},
   "outputs": [
    {
     "data": {
      "text/plain": [
       "['Name', 'Age', 'City']"
      ]
     },
     "execution_count": 3,
     "metadata": {},
     "output_type": "execute_result"
    }
   ],
   "source": [
    "new_keys = [j for j in dictionary]\n",
    "new_keys\n",
    "\n",
    "#[expression for item in iterable]"
   ]
  },
  {
   "cell_type": "code",
   "execution_count": 4,
   "id": "96d28db9",
   "metadata": {},
   "outputs": [],
   "source": [
    "lst = [13,14,17,18]"
   ]
  },
  {
   "cell_type": "code",
   "execution_count": 5,
   "id": "2aec5709",
   "metadata": {},
   "outputs": [
    {
     "data": {
      "text/plain": [
       "[17, 18]"
      ]
     },
     "execution_count": 5,
     "metadata": {},
     "output_type": "execute_result"
    }
   ],
   "source": [
    "greater_15 = [i for i in lst if i>15]\n",
    "greater_15"
   ]
  },
  {
   "cell_type": "code",
   "execution_count": 6,
   "id": "6d77030c",
   "metadata": {},
   "outputs": [
    {
     "data": {
      "text/plain": [
       "[0, 0, 17, 18]"
      ]
     },
     "execution_count": 6,
     "metadata": {},
     "output_type": "execute_result"
    }
   ],
   "source": [
    "greater_15 = [i if i>15 else 0 for i in lst]\n",
    "greater_15"
   ]
  },
  {
   "cell_type": "code",
   "execution_count": 12,
   "id": "970f08fe",
   "metadata": {},
   "outputs": [],
   "source": [
    "Employee = [{\"Name\":\"Ali\", \"Age\":24, \"City\":\"KHI\"},\n",
    "            {\"Name\":\"Ahmed\", \"Age\":30, \"City\":\"LHR\"},\n",
    "            {\"Name\":\"Ali\", \"Age\":17, \"City\":\"ISB\"}]"
   ]
  },
  {
   "cell_type": "code",
   "execution_count": 13,
   "id": "133d60f6",
   "metadata": {},
   "outputs": [
    {
     "data": {
      "text/plain": [
       "[{'Name': 'Ali', 'Age': 24, 'City': 'KHI'},\n",
       " {'Name': 'Ahmed', 'Age': 30, 'City': 'LHR'},\n",
       " {'Name': 'Ali', 'Age': 17, 'City': 'ISB'}]"
      ]
     },
     "execution_count": 13,
     "metadata": {},
     "output_type": "execute_result"
    }
   ],
   "source": [
    "Employee"
   ]
  },
  {
   "cell_type": "code",
   "execution_count": 14,
   "id": "bd8d46f0",
   "metadata": {},
   "outputs": [],
   "source": [
    "def age(dic):\n",
    "    return dic[\"Age\"]"
   ]
  },
  {
   "cell_type": "code",
   "execution_count": 17,
   "id": "42a53c25",
   "metadata": {},
   "outputs": [
    {
     "data": {
      "text/plain": [
       "[{'Name': 'Ahmed', 'Age': 30, 'City': 'LHR'},\n",
       " {'Name': 'Ali', 'Age': 24, 'City': 'KHI'},\n",
       " {'Name': 'Ali', 'Age': 17, 'City': 'ISB'}]"
      ]
     },
     "execution_count": 17,
     "metadata": {},
     "output_type": "execute_result"
    }
   ],
   "source": [
    "sorted(Employee, key=age, reverse = True)\n",
    "\n",
    "#Sorts list wrt given parameter(key)\n",
    "#reverse returns in descending order"
   ]
  },
  {
   "cell_type": "markdown",
   "id": "05a429a9",
   "metadata": {},
   "source": [
    "#### Lambda function\n",
    "* used to avoid separate function declaration\n",
    "* it is declared, called and ends at the same place\n",
    "* syntax: lambda i/p parameter : return parmeter"
   ]
  },
  {
   "cell_type": "code",
   "execution_count": 16,
   "id": "d7be7619",
   "metadata": {},
   "outputs": [
    {
     "data": {
      "text/plain": [
       "[{'Name': 'Ali', 'Age': 17, 'City': 'ISB'},\n",
       " {'Name': 'Ali', 'Age': 24, 'City': 'KHI'},\n",
       " {'Name': 'Ahmed', 'Age': 30, 'City': 'LHR'}]"
      ]
     },
     "execution_count": 16,
     "metadata": {},
     "output_type": "execute_result"
    }
   ],
   "source": [
    "sorted(Employee, key = lambda dic: dic[\"Age\"])"
   ]
  },
  {
   "cell_type": "code",
   "execution_count": null,
   "id": "1b88d9f4",
   "metadata": {},
   "outputs": [],
   "source": []
  }
 ],
 "metadata": {
  "kernelspec": {
   "display_name": "Python 3 (ipykernel)",
   "language": "python",
   "name": "python3"
  },
  "language_info": {
   "codemirror_mode": {
    "name": "ipython",
    "version": 3
   },
   "file_extension": ".py",
   "mimetype": "text/x-python",
   "name": "python",
   "nbconvert_exporter": "python",
   "pygments_lexer": "ipython3",
   "version": "3.11.5"
  }
 },
 "nbformat": 4,
 "nbformat_minor": 5
}
